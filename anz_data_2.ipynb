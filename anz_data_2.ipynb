{
 "cells": [
  {
   "cell_type": "markdown",
   "metadata": {},
   "source": [
    "# Data @ ANZ Virtual Experience Program\n",
    "# Predictive Data Analysis\n",
    "\n",
    "## Background Information\n",
    "The data set below contains transations of 100 hypothetical customers over the course of three months. It contains useful information including customer name and identity, as well as transaction amounts and currency. In this notebook, we will conduct predictive data analysis on the data set."
   ]
  },
  {
   "cell_type": "code",
   "execution_count": 1,
   "metadata": {},
   "outputs": [],
   "source": [
    "import pandas as pd\n",
    "import numpy as np\n",
    "import seaborn as sns\n",
    "from sklearn.model_selection import train_test_split\n",
    "from sklearn.linear_model import LinearRegression\n",
    "from sklearn.preprocessing import FunctionTransformer \n",
    "from sklearn.preprocessing import OneHotEncoder\n",
    "from sklearn.pipeline import Pipeline\n",
    "from sklearn.compose import ColumnTransformer\n",
    "from sklearn.tree import DecisionTreeRegressor"
   ]
  },
  {
   "cell_type": "code",
   "execution_count": 2,
   "metadata": {},
   "outputs": [
    {
     "data": {
      "text/html": [
       "<div>\n",
       "<style scoped>\n",
       "    .dataframe tbody tr th:only-of-type {\n",
       "        vertical-align: middle;\n",
       "    }\n",
       "\n",
       "    .dataframe tbody tr th {\n",
       "        vertical-align: top;\n",
       "    }\n",
       "\n",
       "    .dataframe thead th {\n",
       "        text-align: right;\n",
       "    }\n",
       "</style>\n",
       "<table border=\"1\" class=\"dataframe\">\n",
       "  <thead>\n",
       "    <tr style=\"text-align: right;\">\n",
       "      <th></th>\n",
       "      <th>status</th>\n",
       "      <th>card_present_flag</th>\n",
       "      <th>bpay_biller_code</th>\n",
       "      <th>account</th>\n",
       "      <th>currency</th>\n",
       "      <th>long_lat</th>\n",
       "      <th>txn_description</th>\n",
       "      <th>merchant_id</th>\n",
       "      <th>merchant_code</th>\n",
       "      <th>first_name</th>\n",
       "      <th>...</th>\n",
       "      <th>age</th>\n",
       "      <th>merchant_suburb</th>\n",
       "      <th>merchant_state</th>\n",
       "      <th>extraction</th>\n",
       "      <th>amount</th>\n",
       "      <th>transaction_id</th>\n",
       "      <th>country</th>\n",
       "      <th>customer_id</th>\n",
       "      <th>merchant_long_lat</th>\n",
       "      <th>movement</th>\n",
       "    </tr>\n",
       "  </thead>\n",
       "  <tbody>\n",
       "    <tr>\n",
       "      <td>0</td>\n",
       "      <td>authorized</td>\n",
       "      <td>1.0</td>\n",
       "      <td>NaN</td>\n",
       "      <td>ACC-1598451071</td>\n",
       "      <td>AUD</td>\n",
       "      <td>153.41 -27.95</td>\n",
       "      <td>POS</td>\n",
       "      <td>81c48296-73be-44a7-befa-d053f48ce7cd</td>\n",
       "      <td>NaN</td>\n",
       "      <td>Diana</td>\n",
       "      <td>...</td>\n",
       "      <td>26</td>\n",
       "      <td>Ashmore</td>\n",
       "      <td>QLD</td>\n",
       "      <td>2018-08-01T01:01:15.000+0000</td>\n",
       "      <td>16.25</td>\n",
       "      <td>a623070bfead4541a6b0fff8a09e706c</td>\n",
       "      <td>Australia</td>\n",
       "      <td>CUS-2487424745</td>\n",
       "      <td>153.38 -27.99</td>\n",
       "      <td>debit</td>\n",
       "    </tr>\n",
       "    <tr>\n",
       "      <td>1</td>\n",
       "      <td>authorized</td>\n",
       "      <td>0.0</td>\n",
       "      <td>NaN</td>\n",
       "      <td>ACC-1598451071</td>\n",
       "      <td>AUD</td>\n",
       "      <td>153.41 -27.95</td>\n",
       "      <td>SALES-POS</td>\n",
       "      <td>830a451c-316e-4a6a-bf25-e37caedca49e</td>\n",
       "      <td>NaN</td>\n",
       "      <td>Diana</td>\n",
       "      <td>...</td>\n",
       "      <td>26</td>\n",
       "      <td>Sydney</td>\n",
       "      <td>NSW</td>\n",
       "      <td>2018-08-01T01:13:45.000+0000</td>\n",
       "      <td>14.19</td>\n",
       "      <td>13270a2a902145da9db4c951e04b51b9</td>\n",
       "      <td>Australia</td>\n",
       "      <td>CUS-2487424745</td>\n",
       "      <td>151.21 -33.87</td>\n",
       "      <td>debit</td>\n",
       "    </tr>\n",
       "    <tr>\n",
       "      <td>2</td>\n",
       "      <td>authorized</td>\n",
       "      <td>1.0</td>\n",
       "      <td>NaN</td>\n",
       "      <td>ACC-1222300524</td>\n",
       "      <td>AUD</td>\n",
       "      <td>151.23 -33.94</td>\n",
       "      <td>POS</td>\n",
       "      <td>835c231d-8cdf-4e96-859d-e9d571760cf0</td>\n",
       "      <td>NaN</td>\n",
       "      <td>Michael</td>\n",
       "      <td>...</td>\n",
       "      <td>38</td>\n",
       "      <td>Sydney</td>\n",
       "      <td>NSW</td>\n",
       "      <td>2018-08-01T01:26:15.000+0000</td>\n",
       "      <td>6.42</td>\n",
       "      <td>feb79e7ecd7048a5a36ec889d1a94270</td>\n",
       "      <td>Australia</td>\n",
       "      <td>CUS-2142601169</td>\n",
       "      <td>151.21 -33.87</td>\n",
       "      <td>debit</td>\n",
       "    </tr>\n",
       "    <tr>\n",
       "      <td>3</td>\n",
       "      <td>authorized</td>\n",
       "      <td>1.0</td>\n",
       "      <td>NaN</td>\n",
       "      <td>ACC-1037050564</td>\n",
       "      <td>AUD</td>\n",
       "      <td>153.10 -27.66</td>\n",
       "      <td>SALES-POS</td>\n",
       "      <td>48514682-c78a-4a88-b0da-2d6302e64673</td>\n",
       "      <td>NaN</td>\n",
       "      <td>Rhonda</td>\n",
       "      <td>...</td>\n",
       "      <td>40</td>\n",
       "      <td>Buderim</td>\n",
       "      <td>QLD</td>\n",
       "      <td>2018-08-01T01:38:45.000+0000</td>\n",
       "      <td>40.90</td>\n",
       "      <td>2698170da3704fd981b15e64a006079e</td>\n",
       "      <td>Australia</td>\n",
       "      <td>CUS-1614226872</td>\n",
       "      <td>153.05 -26.68</td>\n",
       "      <td>debit</td>\n",
       "    </tr>\n",
       "    <tr>\n",
       "      <td>4</td>\n",
       "      <td>authorized</td>\n",
       "      <td>1.0</td>\n",
       "      <td>NaN</td>\n",
       "      <td>ACC-1598451071</td>\n",
       "      <td>AUD</td>\n",
       "      <td>153.41 -27.95</td>\n",
       "      <td>SALES-POS</td>\n",
       "      <td>b4e02c10-0852-4273-b8fd-7b3395e32eb0</td>\n",
       "      <td>NaN</td>\n",
       "      <td>Diana</td>\n",
       "      <td>...</td>\n",
       "      <td>26</td>\n",
       "      <td>Mermaid Beach</td>\n",
       "      <td>QLD</td>\n",
       "      <td>2018-08-01T01:51:15.000+0000</td>\n",
       "      <td>3.25</td>\n",
       "      <td>329adf79878c4cf0aeb4188b4691c266</td>\n",
       "      <td>Australia</td>\n",
       "      <td>CUS-2487424745</td>\n",
       "      <td>153.44 -28.06</td>\n",
       "      <td>debit</td>\n",
       "    </tr>\n",
       "  </tbody>\n",
       "</table>\n",
       "<p>5 rows × 23 columns</p>\n",
       "</div>"
      ],
      "text/plain": [
       "       status  card_present_flag bpay_biller_code         account currency  \\\n",
       "0  authorized                1.0              NaN  ACC-1598451071      AUD   \n",
       "1  authorized                0.0              NaN  ACC-1598451071      AUD   \n",
       "2  authorized                1.0              NaN  ACC-1222300524      AUD   \n",
       "3  authorized                1.0              NaN  ACC-1037050564      AUD   \n",
       "4  authorized                1.0              NaN  ACC-1598451071      AUD   \n",
       "\n",
       "        long_lat txn_description                           merchant_id  \\\n",
       "0  153.41 -27.95             POS  81c48296-73be-44a7-befa-d053f48ce7cd   \n",
       "1  153.41 -27.95       SALES-POS  830a451c-316e-4a6a-bf25-e37caedca49e   \n",
       "2  151.23 -33.94             POS  835c231d-8cdf-4e96-859d-e9d571760cf0   \n",
       "3  153.10 -27.66       SALES-POS  48514682-c78a-4a88-b0da-2d6302e64673   \n",
       "4  153.41 -27.95       SALES-POS  b4e02c10-0852-4273-b8fd-7b3395e32eb0   \n",
       "\n",
       "   merchant_code first_name  ...  age merchant_suburb merchant_state  \\\n",
       "0            NaN      Diana  ...   26         Ashmore            QLD   \n",
       "1            NaN      Diana  ...   26          Sydney            NSW   \n",
       "2            NaN    Michael  ...   38          Sydney            NSW   \n",
       "3            NaN     Rhonda  ...   40         Buderim            QLD   \n",
       "4            NaN      Diana  ...   26   Mermaid Beach            QLD   \n",
       "\n",
       "                     extraction amount                    transaction_id  \\\n",
       "0  2018-08-01T01:01:15.000+0000  16.25  a623070bfead4541a6b0fff8a09e706c   \n",
       "1  2018-08-01T01:13:45.000+0000  14.19  13270a2a902145da9db4c951e04b51b9   \n",
       "2  2018-08-01T01:26:15.000+0000   6.42  feb79e7ecd7048a5a36ec889d1a94270   \n",
       "3  2018-08-01T01:38:45.000+0000  40.90  2698170da3704fd981b15e64a006079e   \n",
       "4  2018-08-01T01:51:15.000+0000   3.25  329adf79878c4cf0aeb4188b4691c266   \n",
       "\n",
       "     country     customer_id merchant_long_lat movement  \n",
       "0  Australia  CUS-2487424745     153.38 -27.99    debit  \n",
       "1  Australia  CUS-2487424745     151.21 -33.87    debit  \n",
       "2  Australia  CUS-2142601169     151.21 -33.87    debit  \n",
       "3  Australia  CUS-1614226872     153.05 -26.68    debit  \n",
       "4  Australia  CUS-2487424745     153.44 -28.06    debit  \n",
       "\n",
       "[5 rows x 23 columns]"
      ]
     },
     "execution_count": 2,
     "metadata": {},
     "output_type": "execute_result"
    }
   ],
   "source": [
    "df = pd.read_excel('anz.xlsx')\n",
    "df.head()"
   ]
  },
  {
   "cell_type": "code",
   "execution_count": 3,
   "metadata": {},
   "outputs": [
    {
     "data": {
      "text/plain": [
       "Index(['status', 'card_present_flag', 'bpay_biller_code', 'account',\n",
       "       'currency', 'long_lat', 'txn_description', 'merchant_id',\n",
       "       'merchant_code', 'first_name', 'balance', 'date', 'gender', 'age',\n",
       "       'merchant_suburb', 'merchant_state', 'extraction', 'amount',\n",
       "       'transaction_id', 'country', 'customer_id', 'merchant_long_lat',\n",
       "       'movement'],\n",
       "      dtype='object')"
      ]
     },
     "execution_count": 3,
     "metadata": {},
     "output_type": "execute_result"
    }
   ],
   "source": [
    "df.columns"
   ]
  },
  {
   "cell_type": "markdown",
   "metadata": {},
   "source": [
    "Identifying the annual salary of each customer. Since there is no column indicating one's salary, we must use the given transactions to deduce the annual salaries."
   ]
  },
  {
   "cell_type": "code",
   "execution_count": 4,
   "metadata": {},
   "outputs": [
    {
     "data": {
      "text/plain": [
       "customer_id\n",
       "CUS-1005756958    11645.64\n",
       "CUS-1117979751    42943.80\n",
       "CUS-1140341822    22998.12\n",
       "CUS-1147642491    20536.68\n",
       "CUS-1196156254    46844.76\n",
       "                    ...   \n",
       "CUS-72755508      14160.00\n",
       "CUS-809013380     16596.00\n",
       "CUS-860700529     21703.44\n",
       "CUS-880898248     17207.76\n",
       "CUS-883482547     47729.52\n",
       "Name: amount, Length: 100, dtype: float64"
      ]
     },
     "execution_count": 4,
     "metadata": {},
     "output_type": "execute_result"
    }
   ],
   "source": [
    "# Assume monthly salary is the largest deposit value\n",
    "# Multiply largest value by 12 to get annual salary\n",
    "annual_sal = df.groupby('customer_id').max()['amount']*12\n",
    "annual_sal"
   ]
  },
  {
   "cell_type": "markdown",
   "metadata": {},
   "source": [
    "Below is a histogram demonstrating the distribution of annual incomes across all customers in the data set. It is right-skewed or positively-skewed."
   ]
  },
  {
   "cell_type": "code",
   "execution_count": 5,
   "metadata": {},
   "outputs": [
    {
     "data": {
      "text/plain": [
       "[Text(0.5, 0, 'annual salary')]"
      ]
     },
     "execution_count": 5,
     "metadata": {},
     "output_type": "execute_result"
    },
    {
     "data": {
      "image/png": "[encoded data removed]",
      "text/plain": [
       "<Figure size 432x288 with 1 Axes>"
      ]
     },
     "metadata": {
      "needs_background": "light"
     },
     "output_type": "display_data"
    }
   ],
   "source": [
    "sns.distplot(annual_sal).set(xlabel='annual salary')"
   ]
  },
  {
   "cell_type": "markdown",
   "metadata": {},
   "source": [
    "Matching up annual salaries with customer_ids, age, and gender."
   ]
  },
  {
   "cell_type": "code",
   "execution_count": 6,
   "metadata": {},
   "outputs": [
    {
     "data": {
      "text/html": [
       "<div>\n",
       "<style scoped>\n",
       "    .dataframe tbody tr th:only-of-type {\n",
       "        vertical-align: middle;\n",
       "    }\n",
       "\n",
       "    .dataframe tbody tr th {\n",
       "        vertical-align: top;\n",
       "    }\n",
       "\n",
       "    .dataframe thead th {\n",
       "        text-align: right;\n",
       "    }\n",
       "</style>\n",
       "<table border=\"1\" class=\"dataframe\">\n",
       "  <thead>\n",
       "    <tr style=\"text-align: right;\">\n",
       "      <th></th>\n",
       "      <th>age</th>\n",
       "      <th>gender</th>\n",
       "      <th>annual_salary</th>\n",
       "    </tr>\n",
       "    <tr>\n",
       "      <th>customer_id</th>\n",
       "      <th></th>\n",
       "      <th></th>\n",
       "      <th></th>\n",
       "    </tr>\n",
       "  </thead>\n",
       "  <tbody>\n",
       "    <tr>\n",
       "      <td>CUS-1005756958</td>\n",
       "      <td>53</td>\n",
       "      <td>F</td>\n",
       "      <td>11645.64</td>\n",
       "    </tr>\n",
       "    <tr>\n",
       "      <td>CUS-1117979751</td>\n",
       "      <td>21</td>\n",
       "      <td>M</td>\n",
       "      <td>42943.80</td>\n",
       "    </tr>\n",
       "    <tr>\n",
       "      <td>CUS-1140341822</td>\n",
       "      <td>28</td>\n",
       "      <td>M</td>\n",
       "      <td>22998.12</td>\n",
       "    </tr>\n",
       "    <tr>\n",
       "      <td>CUS-1147642491</td>\n",
       "      <td>34</td>\n",
       "      <td>F</td>\n",
       "      <td>20536.68</td>\n",
       "    </tr>\n",
       "    <tr>\n",
       "      <td>CUS-1196156254</td>\n",
       "      <td>34</td>\n",
       "      <td>F</td>\n",
       "      <td>46844.76</td>\n",
       "    </tr>\n",
       "    <tr>\n",
       "      <td>...</td>\n",
       "      <td>...</td>\n",
       "      <td>...</td>\n",
       "      <td>...</td>\n",
       "    </tr>\n",
       "    <tr>\n",
       "      <td>CUS-72755508</td>\n",
       "      <td>35</td>\n",
       "      <td>F</td>\n",
       "      <td>14160.00</td>\n",
       "    </tr>\n",
       "    <tr>\n",
       "      <td>CUS-809013380</td>\n",
       "      <td>21</td>\n",
       "      <td>F</td>\n",
       "      <td>16596.00</td>\n",
       "    </tr>\n",
       "    <tr>\n",
       "      <td>CUS-860700529</td>\n",
       "      <td>30</td>\n",
       "      <td>M</td>\n",
       "      <td>21703.44</td>\n",
       "    </tr>\n",
       "    <tr>\n",
       "      <td>CUS-880898248</td>\n",
       "      <td>26</td>\n",
       "      <td>M</td>\n",
       "      <td>17207.76</td>\n",
       "    </tr>\n",
       "    <tr>\n",
       "      <td>CUS-883482547</td>\n",
       "      <td>19</td>\n",
       "      <td>F</td>\n",
       "      <td>47729.52</td>\n",
       "    </tr>\n",
       "  </tbody>\n",
       "</table>\n",
       "<p>100 rows × 3 columns</p>\n",
       "</div>"
      ],
      "text/plain": [
       "                age gender  annual_salary\n",
       "customer_id                              \n",
       "CUS-1005756958   53      F       11645.64\n",
       "CUS-1117979751   21      M       42943.80\n",
       "CUS-1140341822   28      M       22998.12\n",
       "CUS-1147642491   34      F       20536.68\n",
       "CUS-1196156254   34      F       46844.76\n",
       "...             ...    ...            ...\n",
       "CUS-72755508     35      F       14160.00\n",
       "CUS-809013380    21      F       16596.00\n",
       "CUS-860700529    30      M       21703.44\n",
       "CUS-880898248    26      M       17207.76\n",
       "CUS-883482547    19      F       47729.52\n",
       "\n",
       "[100 rows x 3 columns]"
      ]
     },
     "execution_count": 6,
     "metadata": {},
     "output_type": "execute_result"
    }
   ],
   "source": [
    "grouped_df = df.groupby('customer_id', as_index=True).max()[['age','gender']]\n",
    "grouped_df['annual_salary'] = annual_sal\n",
    "grouped_df"
   ]
  },
  {
   "cell_type": "markdown",
   "metadata": {},
   "source": [
    "The scatterplot below displays the relationship between a customer's age and annual salary. There doesn't seem to be a linear correlation between the two, but there might possibly be a different relationship between the two. Finding the log or square root of salary and plotting relationship between that and age do not show visibly distinct relationships either."
   ]
  },
  {
   "cell_type": "code",
   "execution_count": 7,
   "metadata": {},
   "outputs": [
    {
     "data": {
      "text/plain": [
       "Text(0.5, 1.0, 'Annual Salary vs Age')"
      ]
     },
     "execution_count": 7,
     "metadata": {},
     "output_type": "execute_result"
    },
    {
     "data": {
      "image/png": "[encoded data removed]",
      "text/plain": [
       "<Figure size 432x288 with 1 Axes>"
      ]
     },
     "metadata": {
      "needs_background": "light"
     },
     "output_type": "display_data"
    }
   ],
   "source": [
    "sns.scatterplot(x='age',y='annual_salary',data=grouped_df).set_title('Annual Salary vs Age')"
   ]
  },
  {
   "cell_type": "code",
   "execution_count": 8,
   "metadata": {},
   "outputs": [],
   "source": [
    "grouped_df['log_salary'] = np.log(grouped_df['annual_salary'])"
   ]
  },
  {
   "cell_type": "code",
   "execution_count": 9,
   "metadata": {},
   "outputs": [
    {
     "data": {
      "text/plain": [
       "Text(0.5, 1.0, 'Log Annual Salary vs Age')"
      ]
     },
     "execution_count": 9,
     "metadata": {},
     "output_type": "execute_result"
    },
    {
     "data": {
      "image/png": "[encoded data removed]",
      "text/plain": [
       "<Figure size 432x288 with 1 Axes>"
      ]
     },
     "metadata": {
      "needs_background": "light"
     },
     "output_type": "display_data"
    }
   ],
   "source": [
    "sns.scatterplot(x='age',y='log_salary',data=grouped_df).set_title('Log Annual Salary vs Age')"
   ]
  },
  {
   "cell_type": "code",
   "execution_count": 10,
   "metadata": {},
   "outputs": [],
   "source": [
    "grouped_df['sqrt_salary'] = np.sqrt(grouped_df['annual_salary'])"
   ]
  },
  {
   "cell_type": "code",
   "execution_count": 11,
   "metadata": {},
   "outputs": [
    {
     "data": {
      "text/plain": [
       "Text(0.5, 1.0, 'Sqrt Annual Salary vs Age')"
      ]
     },
     "execution_count": 11,
     "metadata": {},
     "output_type": "execute_result"
    },
    {
     "data": {
      "image/png": "[encoded data removed]",
      "text/plain": [
       "<Figure size 432x288 with 1 Axes>"
      ]
     },
     "metadata": {
      "needs_background": "light"
     },
     "output_type": "display_data"
    }
   ],
   "source": [
    "sns.scatterplot(x='age',y='sqrt_salary',data=grouped_df).set_title('Sqrt Annual Salary vs Age')"
   ]
  },
  {
   "cell_type": "markdown",
   "metadata": {},
   "source": [
    "An attempt to break down the plot further by gender also does not reveal any plausible relationship."
   ]
  },
  {
   "cell_type": "code",
   "execution_count": 12,
   "metadata": {},
   "outputs": [
    {
     "data": {
      "text/plain": [
       "<matplotlib.axes._subplots.AxesSubplot at 0x1a2204d050>"
      ]
     },
     "execution_count": 12,
     "metadata": {},
     "output_type": "execute_result"
    },
    {
     "data": {
      "image/png": "[encoded data removed]",
      "text/plain": [
       "<Figure size 432x288 with 1 Axes>"
      ]
     },
     "metadata": {
      "needs_background": "light"
     },
     "output_type": "display_data"
    }
   ],
   "source": [
    "sns.scatterplot(x=\"age\", y=\"annual_salary\", hue=\"gender\", data=grouped_df)"
   ]
  },
  {
   "cell_type": "code",
   "execution_count": 13,
   "metadata": {},
   "outputs": [
    {
     "data": {
      "text/plain": [
       "<matplotlib.axes._subplots.AxesSubplot at 0x1a222c8a90>"
      ]
     },
     "execution_count": 13,
     "metadata": {},
     "output_type": "execute_result"
    },
    {
     "data": {
      "image/png": "[encoded data removed]",
      "text/plain": [
       "<Figure size 432x288 with 1 Axes>"
      ]
     },
     "metadata": {
      "needs_background": "light"
     },
     "output_type": "display_data"
    }
   ],
   "source": [
    "sns.scatterplot(x=\"age\", y=\"log_salary\", hue=\"gender\", data=grouped_df)"
   ]
  },
  {
   "cell_type": "code",
   "execution_count": 14,
   "metadata": {},
   "outputs": [
    {
     "data": {
      "text/plain": [
       "<matplotlib.axes._subplots.AxesSubplot at 0x1a229b3450>"
      ]
     },
     "execution_count": 14,
     "metadata": {},
     "output_type": "execute_result"
    },
    {
     "data": {
      "image/png": "[encoded data removed]",
      "text/plain": [
       "<Figure size 432x288 with 1 Axes>"
      ]
     },
     "metadata": {
      "needs_background": "light"
     },
     "output_type": "display_data"
    }
   ],
   "source": [
    "sns.scatterplot(x=\"age\", y=\"sqrt_salary\", hue=\"gender\", data=grouped_df)"
   ]
  },
  {
   "cell_type": "markdown",
   "metadata": {},
   "source": [
    "Now, let us plot annual salaries with balances and amounts and see if there could be any underlying relationships. Matching annual salaries with customer id, balance, and amount."
   ]
  },
  {
   "cell_type": "code",
   "execution_count": 15,
   "metadata": {},
   "outputs": [
    {
     "data": {
      "text/html": [
       "<div>\n",
       "<style scoped>\n",
       "    .dataframe tbody tr th:only-of-type {\n",
       "        vertical-align: middle;\n",
       "    }\n",
       "\n",
       "    .dataframe tbody tr th {\n",
       "        vertical-align: top;\n",
       "    }\n",
       "\n",
       "    .dataframe thead th {\n",
       "        text-align: right;\n",
       "    }\n",
       "</style>\n",
       "<table border=\"1\" class=\"dataframe\">\n",
       "  <thead>\n",
       "    <tr style=\"text-align: right;\">\n",
       "      <th></th>\n",
       "      <th>balance</th>\n",
       "      <th>amount</th>\n",
       "      <th>annual_salary</th>\n",
       "    </tr>\n",
       "    <tr>\n",
       "      <th>customer_id</th>\n",
       "      <th></th>\n",
       "      <th></th>\n",
       "      <th></th>\n",
       "    </tr>\n",
       "  </thead>\n",
       "  <tbody>\n",
       "    <tr>\n",
       "      <td>CUS-1005756958</td>\n",
       "      <td>166137.20</td>\n",
       "      <td>16268.97</td>\n",
       "      <td>11645.64</td>\n",
       "    </tr>\n",
       "    <tr>\n",
       "      <td>CUS-1117979751</td>\n",
       "      <td>982992.90</td>\n",
       "      <td>33984.37</td>\n",
       "      <td>42943.80</td>\n",
       "    </tr>\n",
       "    <tr>\n",
       "      <td>CUS-1140341822</td>\n",
       "      <td>455936.98</td>\n",
       "      <td>17010.60</td>\n",
       "      <td>22998.12</td>\n",
       "    </tr>\n",
       "    <tr>\n",
       "      <td>CUS-1147642491</td>\n",
       "      <td>1065875.26</td>\n",
       "      <td>28980.82</td>\n",
       "      <td>20536.68</td>\n",
       "    </tr>\n",
       "    <tr>\n",
       "      <td>CUS-1196156254</td>\n",
       "      <td>5456746.27</td>\n",
       "      <td>36050.72</td>\n",
       "      <td>46844.76</td>\n",
       "    </tr>\n",
       "    <tr>\n",
       "      <td>...</td>\n",
       "      <td>...</td>\n",
       "      <td>...</td>\n",
       "      <td>...</td>\n",
       "    </tr>\n",
       "    <tr>\n",
       "      <td>CUS-72755508</td>\n",
       "      <td>260858.31</td>\n",
       "      <td>11438.37</td>\n",
       "      <td>14160.00</td>\n",
       "    </tr>\n",
       "    <tr>\n",
       "      <td>CUS-809013380</td>\n",
       "      <td>465855.96</td>\n",
       "      <td>18810.09</td>\n",
       "      <td>16596.00</td>\n",
       "    </tr>\n",
       "    <tr>\n",
       "      <td>CUS-860700529</td>\n",
       "      <td>806710.31</td>\n",
       "      <td>18099.88</td>\n",
       "      <td>21703.44</td>\n",
       "    </tr>\n",
       "    <tr>\n",
       "      <td>CUS-880898248</td>\n",
       "      <td>665248.77</td>\n",
       "      <td>11462.45</td>\n",
       "      <td>17207.76</td>\n",
       "    </tr>\n",
       "    <tr>\n",
       "      <td>CUS-883482547</td>\n",
       "      <td>1758186.58</td>\n",
       "      <td>36639.41</td>\n",
       "      <td>47729.52</td>\n",
       "    </tr>\n",
       "  </tbody>\n",
       "</table>\n",
       "<p>100 rows × 3 columns</p>\n",
       "</div>"
      ],
      "text/plain": [
       "                   balance    amount  annual_salary\n",
       "customer_id                                        \n",
       "CUS-1005756958   166137.20  16268.97       11645.64\n",
       "CUS-1117979751   982992.90  33984.37       42943.80\n",
       "CUS-1140341822   455936.98  17010.60       22998.12\n",
       "CUS-1147642491  1065875.26  28980.82       20536.68\n",
       "CUS-1196156254  5456746.27  36050.72       46844.76\n",
       "...                    ...       ...            ...\n",
       "CUS-72755508     260858.31  11438.37       14160.00\n",
       "CUS-809013380    465855.96  18810.09       16596.00\n",
       "CUS-860700529    806710.31  18099.88       21703.44\n",
       "CUS-880898248    665248.77  11462.45       17207.76\n",
       "CUS-883482547   1758186.58  36639.41       47729.52\n",
       "\n",
       "[100 rows x 3 columns]"
      ]
     },
     "execution_count": 15,
     "metadata": {},
     "output_type": "execute_result"
    }
   ],
   "source": [
    "grouped_df2 = df.groupby('customer_id', as_index=True).sum()[['balance','amount']]\n",
    "grouped_df2['annual_salary'] = annual_sal\n",
    "grouped_df2"
   ]
  },
  {
   "cell_type": "markdown",
   "metadata": {},
   "source": [
    "The scatterplot showing  total transaction amount and annual salary don't seem to show any significant relationship. It can be argued that the scatterplot shows a positive linear relationship, but it is hard to conclude because the data is heteroscedastic and outliers significantly skew the data."
   ]
  },
  {
   "cell_type": "code",
   "execution_count": 16,
   "metadata": {},
   "outputs": [
    {
     "data": {
      "text/plain": [
       "Text(0.5, 1.0, 'Annual Salary vs Amount')"
      ]
     },
     "execution_count": 16,
     "metadata": {},
     "output_type": "execute_result"
    },
    {
     "data": {
      "image/png": "[encoded data removed]",
      "text/plain": [
       "<Figure size 432x288 with 1 Axes>"
      ]
     },
     "metadata": {
      "needs_background": "light"
     },
     "output_type": "display_data"
    }
   ],
   "source": [
    "sns.scatterplot(x='amount',y='annual_salary',data=grouped_df2).set_title('Annual Salary vs Amount')"
   ]
  },
  {
   "cell_type": "markdown",
   "metadata": {},
   "source": [
    "Maybe the data doesn't share a linear relationship, but something else like a log relationship or square root relationship. The plots below demonstrate Log Annual Salary vs Amount and Square Root Annual Salary vs Amount. Doing so seems to better describe the relationship between annual salary and amount better than simply a linear one."
   ]
  },
  {
   "cell_type": "code",
   "execution_count": 17,
   "metadata": {},
   "outputs": [],
   "source": [
    "grouped_df2['log_salary'] = np.log(grouped_df['annual_salary'])"
   ]
  },
  {
   "cell_type": "code",
   "execution_count": 18,
   "metadata": {},
   "outputs": [
    {
     "data": {
      "text/plain": [
       "Text(0.5, 1.0, 'Log Annual Salary vs Amount')"
      ]
     },
     "execution_count": 18,
     "metadata": {},
     "output_type": "execute_result"
    },
    {
     "data": {
      "image/png": "[encoded data removed]",
      "text/plain": [
       "<Figure size 432x288 with 1 Axes>"
      ]
     },
     "metadata": {
      "needs_background": "light"
     },
     "output_type": "display_data"
    }
   ],
   "source": [
    "sns.scatterplot(x='amount',y='log_salary',data=grouped_df2).set_title('Log Annual Salary vs Amount')"
   ]
  },
  {
   "cell_type": "code",
   "execution_count": 19,
   "metadata": {},
   "outputs": [],
   "source": [
    "grouped_df2['sqrt_salary'] = np.sqrt(grouped_df['annual_salary'])"
   ]
  },
  {
   "cell_type": "code",
   "execution_count": 20,
   "metadata": {},
   "outputs": [
    {
     "data": {
      "text/plain": [
       "Text(0.5, 1.0, 'Sqrt Annual Salary vs Amount')"
      ]
     },
     "execution_count": 20,
     "metadata": {},
     "output_type": "execute_result"
    },
    {
     "data": {
      "image/png": "[encoded data removed]",
      "text/plain": [
       "<Figure size 432x288 with 1 Axes>"
      ]
     },
     "metadata": {
      "needs_background": "light"
     },
     "output_type": "display_data"
    }
   ],
   "source": [
    "sns.scatterplot(x='amount',y='sqrt_salary',data=grouped_df2).set_title('Sqrt Annual Salary vs Amount')"
   ]
  },
  {
   "cell_type": "markdown",
   "metadata": {},
   "source": [
    "The scatterplot showing  total balance and annual salary don't seem to show any significant relationship, besides the fact that balance doesn't seem to fluctuate much, even when annual salaries fluctuate a lot."
   ]
  },
  {
   "cell_type": "code",
   "execution_count": 21,
   "metadata": {},
   "outputs": [
    {
     "data": {
      "text/plain": [
       "Text(0.5, 1.0, 'Annual Salary vs Balance')"
      ]
     },
     "execution_count": 21,
     "metadata": {},
     "output_type": "execute_result"
    },
    {
     "data": {
      "image/png": "[encoded data removed]",
      "text/plain": [
       "<Figure size 432x288 with 1 Axes>"
      ]
     },
     "metadata": {
      "needs_background": "light"
     },
     "output_type": "display_data"
    }
   ],
   "source": [
    "sns.scatterplot(x='balance',y='annual_salary',data=grouped_df2).set_title('Annual Salary vs Balance')"
   ]
  },
  {
   "cell_type": "markdown",
   "metadata": {},
   "source": [
    "Here, we will begin to build a simple regression model to predict the annual salary for each customer. First off, we need to extract the columns of interest."
   ]
  },
  {
   "cell_type": "code",
   "execution_count": 22,
   "metadata": {},
   "outputs": [
    {
     "data": {
      "text/html": [
       "<div>\n",
       "<style scoped>\n",
       "    .dataframe tbody tr th:only-of-type {\n",
       "        vertical-align: middle;\n",
       "    }\n",
       "\n",
       "    .dataframe tbody tr th {\n",
       "        vertical-align: top;\n",
       "    }\n",
       "\n",
       "    .dataframe thead th {\n",
       "        text-align: right;\n",
       "    }\n",
       "</style>\n",
       "<table border=\"1\" class=\"dataframe\">\n",
       "  <thead>\n",
       "    <tr style=\"text-align: right;\">\n",
       "      <th></th>\n",
       "      <th>age</th>\n",
       "      <th>gender</th>\n",
       "      <th>amount</th>\n",
       "      <th>annual_salary</th>\n",
       "    </tr>\n",
       "    <tr>\n",
       "      <th>customer_id</th>\n",
       "      <th></th>\n",
       "      <th></th>\n",
       "      <th></th>\n",
       "      <th></th>\n",
       "    </tr>\n",
       "  </thead>\n",
       "  <tbody>\n",
       "    <tr>\n",
       "      <td>CUS-1005756958</td>\n",
       "      <td>53</td>\n",
       "      <td>F</td>\n",
       "      <td>16268.97</td>\n",
       "      <td>11645.64</td>\n",
       "    </tr>\n",
       "    <tr>\n",
       "      <td>CUS-1117979751</td>\n",
       "      <td>21</td>\n",
       "      <td>M</td>\n",
       "      <td>33984.37</td>\n",
       "      <td>42943.80</td>\n",
       "    </tr>\n",
       "    <tr>\n",
       "      <td>CUS-1140341822</td>\n",
       "      <td>28</td>\n",
       "      <td>M</td>\n",
       "      <td>17010.60</td>\n",
       "      <td>22998.12</td>\n",
       "    </tr>\n",
       "    <tr>\n",
       "      <td>CUS-1147642491</td>\n",
       "      <td>34</td>\n",
       "      <td>F</td>\n",
       "      <td>28980.82</td>\n",
       "      <td>20536.68</td>\n",
       "    </tr>\n",
       "    <tr>\n",
       "      <td>CUS-1196156254</td>\n",
       "      <td>34</td>\n",
       "      <td>F</td>\n",
       "      <td>36050.72</td>\n",
       "      <td>46844.76</td>\n",
       "    </tr>\n",
       "    <tr>\n",
       "      <td>...</td>\n",
       "      <td>...</td>\n",
       "      <td>...</td>\n",
       "      <td>...</td>\n",
       "      <td>...</td>\n",
       "    </tr>\n",
       "    <tr>\n",
       "      <td>CUS-72755508</td>\n",
       "      <td>35</td>\n",
       "      <td>F</td>\n",
       "      <td>11438.37</td>\n",
       "      <td>14160.00</td>\n",
       "    </tr>\n",
       "    <tr>\n",
       "      <td>CUS-809013380</td>\n",
       "      <td>21</td>\n",
       "      <td>F</td>\n",
       "      <td>18810.09</td>\n",
       "      <td>16596.00</td>\n",
       "    </tr>\n",
       "    <tr>\n",
       "      <td>CUS-860700529</td>\n",
       "      <td>30</td>\n",
       "      <td>M</td>\n",
       "      <td>18099.88</td>\n",
       "      <td>21703.44</td>\n",
       "    </tr>\n",
       "    <tr>\n",
       "      <td>CUS-880898248</td>\n",
       "      <td>26</td>\n",
       "      <td>M</td>\n",
       "      <td>11462.45</td>\n",
       "      <td>17207.76</td>\n",
       "    </tr>\n",
       "    <tr>\n",
       "      <td>CUS-883482547</td>\n",
       "      <td>19</td>\n",
       "      <td>F</td>\n",
       "      <td>36639.41</td>\n",
       "      <td>47729.52</td>\n",
       "    </tr>\n",
       "  </tbody>\n",
       "</table>\n",
       "<p>100 rows × 4 columns</p>\n",
       "</div>"
      ],
      "text/plain": [
       "                age gender    amount  annual_salary\n",
       "customer_id                                        \n",
       "CUS-1005756958   53      F  16268.97       11645.64\n",
       "CUS-1117979751   21      M  33984.37       42943.80\n",
       "CUS-1140341822   28      M  17010.60       22998.12\n",
       "CUS-1147642491   34      F  28980.82       20536.68\n",
       "CUS-1196156254   34      F  36050.72       46844.76\n",
       "...             ...    ...       ...            ...\n",
       "CUS-72755508     35      F  11438.37       14160.00\n",
       "CUS-809013380    21      F  18810.09       16596.00\n",
       "CUS-860700529    30      M  18099.88       21703.44\n",
       "CUS-880898248    26      M  11462.45       17207.76\n",
       "CUS-883482547    19      F  36639.41       47729.52\n",
       "\n",
       "[100 rows x 4 columns]"
      ]
     },
     "execution_count": 22,
     "metadata": {},
     "output_type": "execute_result"
    }
   ],
   "source": [
    "merged = pd.merge(grouped_df[['age','gender']], grouped_df2[['amount','annual_salary']], left_index=True, right_index=True)\n",
    "merged"
   ]
  },
  {
   "cell_type": "markdown",
   "metadata": {},
   "source": [
    "Then, we break up the data into training set and testing set."
   ]
  },
  {
   "cell_type": "code",
   "execution_count": 23,
   "metadata": {},
   "outputs": [],
   "source": [
    "X = merged.drop('annual_salary', axis=1)\n",
    "y = merged.annual_salary\n",
    "X_train, X_test, y_train, y_test = train_test_split(X,y,test_size=0.25)"
   ]
  },
  {
   "cell_type": "markdown",
   "metadata": {},
   "source": [
    "Next, we will transform the columns into usable features."
   ]
  },
  {
   "cell_type": "code",
   "execution_count": 24,
   "metadata": {},
   "outputs": [],
   "source": [
    "identity = FunctionTransformer(lambda x:x, validate=True) # for age\n",
    "nominal = OneHotEncoder() # for gender\n",
    "sqrt = FunctionTransformer(np.sqrt, validate=True) # scaling by square root for amount"
   ]
  },
  {
   "cell_type": "code",
   "execution_count": 25,
   "metadata": {},
   "outputs": [],
   "source": [
    "preproc = ColumnTransformer([('ohe',nominal,['gender']),\\\n",
    "                             ('sqrt',sqrt,['amount']),\\\n",
    "                             ('identity',identity,['age'])])"
   ]
  },
  {
   "cell_type": "markdown",
   "metadata": {},
   "source": [
    "Fitting the model to the training data, a linear regression model."
   ]
  },
  {
   "cell_type": "code",
   "execution_count": 26,
   "metadata": {},
   "outputs": [],
   "source": [
    "pipeline = Pipeline([('feat',preproc),\\\n",
    "                     ('lin-reg',LinearRegression())])\n",
    "pipeline.fit(X_train,y_train);"
   ]
  },
  {
   "cell_type": "markdown",
   "metadata": {},
   "source": [
    "Scoring the model's predictions against actual data results in very low scores. The model is therefore inaccurate at predicting a given customer's annual salary. This tells us that a linear regression may not be the best option. ANZ should not use this model to segment customers since to predict customers' income bracket because it is very inaccurate. It is best to either come up with a new model or collect more data to produce a more reliable model."
   ]
  },
  {
   "cell_type": "code",
   "execution_count": 27,
   "metadata": {},
   "outputs": [
    {
     "data": {
      "text/plain": [
       "0.2552738708800406"
      ]
     },
     "execution_count": 27,
     "metadata": {},
     "output_type": "execute_result"
    }
   ],
   "source": [
    "preds_train = pipeline.predict(X_train)\n",
    "pipeline.score(X_train, y_train)"
   ]
  },
  {
   "cell_type": "code",
   "execution_count": 28,
   "metadata": {},
   "outputs": [
    {
     "data": {
      "text/plain": [
       "0.1780414340384493"
      ]
     },
     "execution_count": 28,
     "metadata": {},
     "output_type": "execute_result"
    }
   ],
   "source": [
    "preds_train = pipeline.predict(X_test)\n",
    "pipeline.score(X_test, y_test)"
   ]
  },
  {
   "cell_type": "markdown",
   "metadata": {},
   "source": [
    "Similarly, we  build a decision-tree regressor model to predict annual salaries. It also produces low scores when predicting on the testing data, hence the model is not reliable as well. More data neets to be collected to produce a reliable model that can generalize customers (ie. there is low bias but high variance, but we want to have low values for both)."
   ]
  },
  {
   "cell_type": "code",
   "execution_count": 29,
   "metadata": {},
   "outputs": [],
   "source": [
    "pipeline_regressor = Pipeline([('feat',preproc),\\\n",
    "                     ('regressor',DecisionTreeRegressor())])\n",
    "pipeline_regressor.fit(X_train,y_train);"
   ]
  },
  {
   "cell_type": "code",
   "execution_count": 30,
   "metadata": {},
   "outputs": [
    {
     "data": {
      "text/plain": [
       "1.0"
      ]
     },
     "execution_count": 30,
     "metadata": {},
     "output_type": "execute_result"
    }
   ],
   "source": [
    "preds_train = pipeline_regressor.predict(X_train)\n",
    "pipeline_regressor.score(X_train, y_train)"
   ]
  },
  {
   "cell_type": "code",
   "execution_count": 31,
   "metadata": {},
   "outputs": [
    {
     "data": {
      "text/plain": [
       "-0.1928417075936253"
      ]
     },
     "execution_count": 31,
     "metadata": {},
     "output_type": "execute_result"
    }
   ],
   "source": [
    "preds_train = pipeline_regressor.predict(X_test)\n",
    "pipeline_regressor.score(X_test, y_test)"
   ]
  },
  {
   "cell_type": "markdown",
   "metadata": {},
   "source": [
    "Below, we set the max_depth parameter to 3. When we set a limit to max_depth, the score for the training data becomes lower while the score for the testing data becomes higher. This is because the model better generalizes to unseen data and doesn't overfit to the training data. However, although scores are still low, therefore a new model still needs to be in place."
   ]
  },
  {
   "cell_type": "code",
   "execution_count": 32,
   "metadata": {},
   "outputs": [],
   "source": [
    "pipeline_regressor = Pipeline([('feat',preproc),\\\n",
    "                     ('regressor',DecisionTreeRegressor(max_depth=3))])\n",
    "pipeline_regressor.fit(X_train,y_train);"
   ]
  },
  {
   "cell_type": "code",
   "execution_count": 33,
   "metadata": {},
   "outputs": [
    {
     "data": {
      "text/plain": [
       "0.4034957704547949"
      ]
     },
     "execution_count": 33,
     "metadata": {},
     "output_type": "execute_result"
    }
   ],
   "source": [
    "preds_train = pipeline_regressor.predict(X_train)\n",
    "pipeline_regressor.score(X_train, y_train)"
   ]
  },
  {
   "cell_type": "code",
   "execution_count": 34,
   "metadata": {},
   "outputs": [
    {
     "data": {
      "text/plain": [
       "0.1736243757115965"
      ]
     },
     "execution_count": 34,
     "metadata": {},
     "output_type": "execute_result"
    }
   ],
   "source": [
    "preds_train = pipeline_regressor.predict(X_test)\n",
    "pipeline_regressor.score(X_test, y_test)"
   ]
  }
 ],
 "metadata": {
  "kernelspec": {
   "display_name": "Python 3",
   "language": "python",
   "name": "python3"
  },
  "language_info": {
   "codemirror_mode": {
    "name": "ipython",
    "version": 3
   },
   "file_extension": ".py",
   "mimetype": "text/x-python",
   "name": "python",
   "nbconvert_exporter": "python",
   "pygments_lexer": "ipython3",
   "version": "3.7.4"
  }
 },
 "nbformat": 4,
 "nbformat_minor": 2
}
