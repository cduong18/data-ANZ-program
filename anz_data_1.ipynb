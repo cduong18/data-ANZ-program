{
 "cells": [
  {
   "cell_type": "markdown",
   "metadata": {
    "slideshow": {
     "slide_type": "slide"
    }
   },
   "source": [
    "# Data @ ANZ Virtual Experience Program\n",
    "# Exploratory Data Analysis\n",
    "\n",
    "## Background Information\n",
    "The data set below contains transations of 100 hypothetical customers over the course of three months. It contains useful information including customer name and identity, as well as transaction amounts and currency. In this notebook, we will conduct exploratory data analysis on the data set."
   ]
  },
  {
   "cell_type": "code",
   "execution_count": 1,
   "metadata": {
    "slideshow": {
     "slide_type": "skip"
    }
   },
   "outputs": [],
   "source": [
    "import pandas as pd\n",
    "import numpy as np\n",
    "import datetime\n",
    "import seaborn as sns\n",
    "import re"
   ]
  },
  {
   "cell_type": "code",
   "execution_count": 2,
   "metadata": {
    "slideshow": {
     "slide_type": "slide"
    }
   },
   "outputs": [
    {
     "data": {
      "text/html": [
       "<div>\n",
       "<style scoped>\n",
       "    .dataframe tbody tr th:only-of-type {\n",
       "        vertical-align: middle;\n",
       "    }\n",
       "\n",
       "    .dataframe tbody tr th {\n",
       "        vertical-align: top;\n",
       "    }\n",
       "\n",
       "    .dataframe thead th {\n",
       "        text-align: right;\n",
       "    }\n",
       "</style>\n",
       "<table border=\"1\" class=\"dataframe\">\n",
       "  <thead>\n",
       "    <tr style=\"text-align: right;\">\n",
       "      <th></th>\n",
       "      <th>status</th>\n",
       "      <th>card_present_flag</th>\n",
       "      <th>bpay_biller_code</th>\n",
       "      <th>account</th>\n",
       "      <th>currency</th>\n",
       "      <th>long_lat</th>\n",
       "      <th>txn_description</th>\n",
       "      <th>merchant_id</th>\n",
       "      <th>merchant_code</th>\n",
       "      <th>first_name</th>\n",
       "      <th>...</th>\n",
       "      <th>age</th>\n",
       "      <th>merchant_suburb</th>\n",
       "      <th>merchant_state</th>\n",
       "      <th>extraction</th>\n",
       "      <th>amount</th>\n",
       "      <th>transaction_id</th>\n",
       "      <th>country</th>\n",
       "      <th>customer_id</th>\n",
       "      <th>merchant_long_lat</th>\n",
       "      <th>movement</th>\n",
       "    </tr>\n",
       "  </thead>\n",
       "  <tbody>\n",
       "    <tr>\n",
       "      <td>0</td>\n",
       "      <td>authorized</td>\n",
       "      <td>1.0</td>\n",
       "      <td>NaN</td>\n",
       "      <td>ACC-1598451071</td>\n",
       "      <td>AUD</td>\n",
       "      <td>153.41 -27.95</td>\n",
       "      <td>POS</td>\n",
       "      <td>81c48296-73be-44a7-befa-d053f48ce7cd</td>\n",
       "      <td>NaN</td>\n",
       "      <td>Diana</td>\n",
       "      <td>...</td>\n",
       "      <td>26</td>\n",
       "      <td>Ashmore</td>\n",
       "      <td>QLD</td>\n",
       "      <td>2018-08-01T01:01:15.000+0000</td>\n",
       "      <td>16.25</td>\n",
       "      <td>a623070bfead4541a6b0fff8a09e706c</td>\n",
       "      <td>Australia</td>\n",
       "      <td>CUS-2487424745</td>\n",
       "      <td>153.38 -27.99</td>\n",
       "      <td>debit</td>\n",
       "    </tr>\n",
       "    <tr>\n",
       "      <td>1</td>\n",
       "      <td>authorized</td>\n",
       "      <td>0.0</td>\n",
       "      <td>NaN</td>\n",
       "      <td>ACC-1598451071</td>\n",
       "      <td>AUD</td>\n",
       "      <td>153.41 -27.95</td>\n",
       "      <td>SALES-POS</td>\n",
       "      <td>830a451c-316e-4a6a-bf25-e37caedca49e</td>\n",
       "      <td>NaN</td>\n",
       "      <td>Diana</td>\n",
       "      <td>...</td>\n",
       "      <td>26</td>\n",
       "      <td>Sydney</td>\n",
       "      <td>NSW</td>\n",
       "      <td>2018-08-01T01:13:45.000+0000</td>\n",
       "      <td>14.19</td>\n",
       "      <td>13270a2a902145da9db4c951e04b51b9</td>\n",
       "      <td>Australia</td>\n",
       "      <td>CUS-2487424745</td>\n",
       "      <td>151.21 -33.87</td>\n",
       "      <td>debit</td>\n",
       "    </tr>\n",
       "    <tr>\n",
       "      <td>2</td>\n",
       "      <td>authorized</td>\n",
       "      <td>1.0</td>\n",
       "      <td>NaN</td>\n",
       "      <td>ACC-1222300524</td>\n",
       "      <td>AUD</td>\n",
       "      <td>151.23 -33.94</td>\n",
       "      <td>POS</td>\n",
       "      <td>835c231d-8cdf-4e96-859d-e9d571760cf0</td>\n",
       "      <td>NaN</td>\n",
       "      <td>Michael</td>\n",
       "      <td>...</td>\n",
       "      <td>38</td>\n",
       "      <td>Sydney</td>\n",
       "      <td>NSW</td>\n",
       "      <td>2018-08-01T01:26:15.000+0000</td>\n",
       "      <td>6.42</td>\n",
       "      <td>feb79e7ecd7048a5a36ec889d1a94270</td>\n",
       "      <td>Australia</td>\n",
       "      <td>CUS-2142601169</td>\n",
       "      <td>151.21 -33.87</td>\n",
       "      <td>debit</td>\n",
       "    </tr>\n",
       "    <tr>\n",
       "      <td>3</td>\n",
       "      <td>authorized</td>\n",
       "      <td>1.0</td>\n",
       "      <td>NaN</td>\n",
       "      <td>ACC-1037050564</td>\n",
       "      <td>AUD</td>\n",
       "      <td>153.10 -27.66</td>\n",
       "      <td>SALES-POS</td>\n",
       "      <td>48514682-c78a-4a88-b0da-2d6302e64673</td>\n",
       "      <td>NaN</td>\n",
       "      <td>Rhonda</td>\n",
       "      <td>...</td>\n",
       "      <td>40</td>\n",
       "      <td>Buderim</td>\n",
       "      <td>QLD</td>\n",
       "      <td>2018-08-01T01:38:45.000+0000</td>\n",
       "      <td>40.90</td>\n",
       "      <td>2698170da3704fd981b15e64a006079e</td>\n",
       "      <td>Australia</td>\n",
       "      <td>CUS-1614226872</td>\n",
       "      <td>153.05 -26.68</td>\n",
       "      <td>debit</td>\n",
       "    </tr>\n",
       "    <tr>\n",
       "      <td>4</td>\n",
       "      <td>authorized</td>\n",
       "      <td>1.0</td>\n",
       "      <td>NaN</td>\n",
       "      <td>ACC-1598451071</td>\n",
       "      <td>AUD</td>\n",
       "      <td>153.41 -27.95</td>\n",
       "      <td>SALES-POS</td>\n",
       "      <td>b4e02c10-0852-4273-b8fd-7b3395e32eb0</td>\n",
       "      <td>NaN</td>\n",
       "      <td>Diana</td>\n",
       "      <td>...</td>\n",
       "      <td>26</td>\n",
       "      <td>Mermaid Beach</td>\n",
       "      <td>QLD</td>\n",
       "      <td>2018-08-01T01:51:15.000+0000</td>\n",
       "      <td>3.25</td>\n",
       "      <td>329adf79878c4cf0aeb4188b4691c266</td>\n",
       "      <td>Australia</td>\n",
       "      <td>CUS-2487424745</td>\n",
       "      <td>153.44 -28.06</td>\n",
       "      <td>debit</td>\n",
       "    </tr>\n",
       "  </tbody>\n",
       "</table>\n",
       "<p>5 rows × 23 columns</p>\n",
       "</div>"
      ],
      "text/plain": [
       "       status  card_present_flag bpay_biller_code         account currency  \\\n",
       "0  authorized                1.0              NaN  ACC-1598451071      AUD   \n",
       "1  authorized                0.0              NaN  ACC-1598451071      AUD   \n",
       "2  authorized                1.0              NaN  ACC-1222300524      AUD   \n",
       "3  authorized                1.0              NaN  ACC-1037050564      AUD   \n",
       "4  authorized                1.0              NaN  ACC-1598451071      AUD   \n",
       "\n",
       "        long_lat txn_description                           merchant_id  \\\n",
       "0  153.41 -27.95             POS  81c48296-73be-44a7-befa-d053f48ce7cd   \n",
       "1  153.41 -27.95       SALES-POS  830a451c-316e-4a6a-bf25-e37caedca49e   \n",
       "2  151.23 -33.94             POS  835c231d-8cdf-4e96-859d-e9d571760cf0   \n",
       "3  153.10 -27.66       SALES-POS  48514682-c78a-4a88-b0da-2d6302e64673   \n",
       "4  153.41 -27.95       SALES-POS  b4e02c10-0852-4273-b8fd-7b3395e32eb0   \n",
       "\n",
       "   merchant_code first_name  ...  age merchant_suburb merchant_state  \\\n",
       "0            NaN      Diana  ...   26         Ashmore            QLD   \n",
       "1            NaN      Diana  ...   26          Sydney            NSW   \n",
       "2            NaN    Michael  ...   38          Sydney            NSW   \n",
       "3            NaN     Rhonda  ...   40         Buderim            QLD   \n",
       "4            NaN      Diana  ...   26   Mermaid Beach            QLD   \n",
       "\n",
       "                     extraction amount                    transaction_id  \\\n",
       "0  2018-08-01T01:01:15.000+0000  16.25  a623070bfead4541a6b0fff8a09e706c   \n",
       "1  2018-08-01T01:13:45.000+0000  14.19  13270a2a902145da9db4c951e04b51b9   \n",
       "2  2018-08-01T01:26:15.000+0000   6.42  feb79e7ecd7048a5a36ec889d1a94270   \n",
       "3  2018-08-01T01:38:45.000+0000  40.90  2698170da3704fd981b15e64a006079e   \n",
       "4  2018-08-01T01:51:15.000+0000   3.25  329adf79878c4cf0aeb4188b4691c266   \n",
       "\n",
       "     country     customer_id merchant_long_lat movement  \n",
       "0  Australia  CUS-2487424745     153.38 -27.99    debit  \n",
       "1  Australia  CUS-2487424745     151.21 -33.87    debit  \n",
       "2  Australia  CUS-2142601169     151.21 -33.87    debit  \n",
       "3  Australia  CUS-1614226872     153.05 -26.68    debit  \n",
       "4  Australia  CUS-2487424745     153.44 -28.06    debit  \n",
       "\n",
       "[5 rows x 23 columns]"
      ]
     },
     "execution_count": 2,
     "metadata": {},
     "output_type": "execute_result"
    }
   ],
   "source": [
    "df = pd.read_excel('anz.xlsx')\n",
    "df.head()"
   ]
  },
  {
   "cell_type": "code",
   "execution_count": 3,
   "metadata": {
    "slideshow": {
     "slide_type": "skip"
    }
   },
   "outputs": [
    {
     "data": {
      "text/plain": [
       "(12043, 23)"
      ]
     },
     "execution_count": 3,
     "metadata": {},
     "output_type": "execute_result"
    }
   ],
   "source": [
    "df.shape # 12043 rows, 23 columns in the data set"
   ]
  },
  {
   "cell_type": "code",
   "execution_count": 4,
   "metadata": {
    "slideshow": {
     "slide_type": "skip"
    }
   },
   "outputs": [
    {
     "data": {
      "text/plain": [
       "status                       object\n",
       "card_present_flag           float64\n",
       "bpay_biller_code             object\n",
       "account                      object\n",
       "currency                     object\n",
       "long_lat                     object\n",
       "txn_description              object\n",
       "merchant_id                  object\n",
       "merchant_code               float64\n",
       "first_name                   object\n",
       "balance                     float64\n",
       "date                 datetime64[ns]\n",
       "gender                       object\n",
       "age                           int64\n",
       "merchant_suburb              object\n",
       "merchant_state               object\n",
       "extraction                   object\n",
       "amount                      float64\n",
       "transaction_id               object\n",
       "country                      object\n",
       "customer_id                  object\n",
       "merchant_long_lat            object\n",
       "movement                     object\n",
       "dtype: object"
      ]
     },
     "execution_count": 4,
     "metadata": {},
     "output_type": "execute_result"
    }
   ],
   "source": [
    "df.dtypes # column names and their data types"
   ]
  },
  {
   "cell_type": "markdown",
   "metadata": {
    "slideshow": {
     "slide_type": "subslide"
    }
   },
   "source": [
    "There are some data issues, notably that many columns in the data set have null/NaN values, which make it more difficult to perform testing and analysis. null/NaN values should be imputed according to what is best in preserving the integrity of the data.\n"
   ]
  },
  {
   "cell_type": "code",
   "execution_count": 5,
   "metadata": {},
   "outputs": [
    {
     "name": "stdout",
     "output_type": "stream",
     "text": [
      "['Australia']\n",
      "['AUD']\n"
     ]
    }
   ],
   "source": [
    "print(np.unique(df['country'])) # all transactions were made in Australia\n",
    "print(np.unique(df['currency'])) # all transactions were made in AUD"
   ]
  },
  {
   "cell_type": "code",
   "execution_count": 6,
   "metadata": {
    "slideshow": {
     "slide_type": "slide"
    }
   },
   "outputs": [
    {
     "data": {
      "text/plain": [
       "187.93358797641767"
      ]
     },
     "execution_count": 6,
     "metadata": {},
     "output_type": "execute_result"
    }
   ],
   "source": [
    "# average transaction amount\n",
    "np.mean(df['amount']) # 187.93 AUD"
   ]
  },
  {
   "cell_type": "code",
   "execution_count": 7,
   "metadata": {
    "slideshow": {
     "slide_type": "subslide"
    }
   },
   "outputs": [
    {
     "data": {
      "text/plain": [
       "120.43"
      ]
     },
     "execution_count": 7,
     "metadata": {},
     "output_type": "execute_result"
    }
   ],
   "source": [
    "# average number of transations per month\n",
    "np.mean(df.groupby('account').size()) # 120.43 transactions per month"
   ]
  },
  {
   "cell_type": "markdown",
   "metadata": {
    "slideshow": {
     "slide_type": "slide"
    }
   },
   "source": [
    "Visualizing transaction spending over the course of an average week."
   ]
  },
  {
   "cell_type": "code",
   "execution_count": 8,
   "metadata": {
    "slideshow": {
     "slide_type": "subslide"
    }
   },
   "outputs": [],
   "source": [
    "df['day_of_week'] = df['date'].dt.dayofweek # add new column specifying the day of the week"
   ]
  },
  {
   "cell_type": "code",
   "execution_count": 9,
   "metadata": {
    "slideshow": {
     "slide_type": "subslide"
    }
   },
   "outputs": [
    {
     "data": {
      "text/html": [
       "<div>\n",
       "<style scoped>\n",
       "    .dataframe tbody tr th:only-of-type {\n",
       "        vertical-align: middle;\n",
       "    }\n",
       "\n",
       "    .dataframe tbody tr th {\n",
       "        vertical-align: top;\n",
       "    }\n",
       "\n",
       "    .dataframe thead th {\n",
       "        text-align: right;\n",
       "    }\n",
       "</style>\n",
       "<table border=\"1\" class=\"dataframe\">\n",
       "  <thead>\n",
       "    <tr style=\"text-align: right;\">\n",
       "      <th></th>\n",
       "      <th>day_of_week</th>\n",
       "      <th>amount</th>\n",
       "    </tr>\n",
       "  </thead>\n",
       "  <tbody>\n",
       "    <tr>\n",
       "      <td>0</td>\n",
       "      <td>2</td>\n",
       "      <td>16.25</td>\n",
       "    </tr>\n",
       "    <tr>\n",
       "      <td>1</td>\n",
       "      <td>2</td>\n",
       "      <td>14.19</td>\n",
       "    </tr>\n",
       "    <tr>\n",
       "      <td>2</td>\n",
       "      <td>2</td>\n",
       "      <td>6.42</td>\n",
       "    </tr>\n",
       "    <tr>\n",
       "      <td>3</td>\n",
       "      <td>2</td>\n",
       "      <td>40.90</td>\n",
       "    </tr>\n",
       "    <tr>\n",
       "      <td>4</td>\n",
       "      <td>2</td>\n",
       "      <td>3.25</td>\n",
       "    </tr>\n",
       "  </tbody>\n",
       "</table>\n",
       "</div>"
      ],
      "text/plain": [
       "   day_of_week  amount\n",
       "0            2   16.25\n",
       "1            2   14.19\n",
       "2            2    6.42\n",
       "3            2   40.90\n",
       "4            2    3.25"
      ]
     },
     "execution_count": 9,
     "metadata": {},
     "output_type": "execute_result"
    }
   ],
   "source": [
    "df[['day_of_week','amount']].head()"
   ]
  },
  {
   "cell_type": "markdown",
   "metadata": {
    "slideshow": {
     "slide_type": "subslide"
    }
   },
   "source": [
    "0: Monday\n",
    "1: Tuesday\n",
    "2: Wednesday\n",
    "3: Thursday\n",
    "4: Friday\n",
    "5: Saturday\n",
    "6: Sunday"
   ]
  },
  {
   "cell_type": "markdown",
   "metadata": {
    "slideshow": {
     "slide_type": "subslide"
    }
   },
   "source": [
    "Transaction spending is not distributed uniformly. Very small transaction spending occurs on the weekends, whereas large transaction spending occurs during the week."
   ]
  },
  {
   "cell_type": "code",
   "execution_count": 26,
   "metadata": {
    "slideshow": {
     "slide_type": "subslide"
    }
   },
   "outputs": [
    {
     "data": {
      "text/plain": [
       "Text(0.5, 1.0, 'Spending Across an Average Week')"
      ]
     },
     "execution_count": 26,
     "metadata": {},
     "output_type": "execute_result"
    },
    {
     "data": {
      "image/png": "[encoded data removed]",
      "text/plain": [
       "<Figure size 432x288 with 1 Axes>"
      ]
     },
     "metadata": {
      "needs_background": "light"
     },
     "output_type": "display_data"
    }
   ],
   "source": [
    "sns.barplot(x='day_of_week',y='amount',data=df).set_title(\"Spending Across an Average Week\")"
   ]
  },
  {
   "cell_type": "markdown",
   "metadata": {
    "slideshow": {
     "slide_type": "slide"
    }
   },
   "source": [
    "Visualizing transaction volume over the course of an average week."
   ]
  },
  {
   "cell_type": "code",
   "execution_count": 11,
   "metadata": {
    "slideshow": {
     "slide_type": "subslide"
    }
   },
   "outputs": [
    {
     "data": {
      "text/plain": [
       "day_of_week\n",
       "0    1360\n",
       "1    1487\n",
       "2    2063\n",
       "3    1801\n",
       "4    2073\n",
       "5    1709\n",
       "6    1550\n",
       "dtype: int64"
      ]
     },
     "execution_count": 11,
     "metadata": {},
     "output_type": "execute_result"
    }
   ],
   "source": [
    "dow_counts = df.groupby('day_of_week').size()\n",
    "dow_counts"
   ]
  },
  {
   "cell_type": "markdown",
   "metadata": {
    "slideshow": {
     "slide_type": "subslide"
    }
   },
   "source": [
    "0: Monday 1: Tuesday 2: Wednesday 3: Thursday 4: Friday 5: Saturday 6: Sunday"
   ]
  },
  {
   "cell_type": "markdown",
   "metadata": {},
   "source": [
    "Transaction volume is distributed roughly uniformly, though there are peaks on Wednesday and Friday."
   ]
  },
  {
   "cell_type": "code",
   "execution_count": 27,
   "metadata": {
    "slideshow": {
     "slide_type": "subslide"
    }
   },
   "outputs": [
    {
     "data": {
      "text/plain": [
       "Text(0.5, 1.0, 'Transaction Volume Across an Average Week')"
      ]
     },
     "execution_count": 27,
     "metadata": {},
     "output_type": "execute_result"
    },
    {
     "data": {
      "image/png": "[encoded data removed]",
      "text/plain": [
       "<Figure size 432x288 with 1 Axes>"
      ]
     },
     "metadata": {
      "needs_background": "light"
     },
     "output_type": "display_data"
    }
   ],
   "source": [
    "sns.barplot(x=dow_counts.index,y=dow_counts).set_title(\"Transaction Volume Across an Average Week\")"
   ]
  },
  {
   "cell_type": "markdown",
   "metadata": {
    "slideshow": {
     "slide_type": "slide"
    }
   },
   "source": [
    "Visualizing transaction spending over the course of an average day."
   ]
  },
  {
   "cell_type": "code",
   "execution_count": 13,
   "metadata": {
    "slideshow": {
     "slide_type": "subslide"
    }
   },
   "outputs": [],
   "source": [
    "hours = []\n",
    "for i in df['extraction']:\n",
    "    hours.append(re.search('[0-9]{2}:[0-9]{2}:[0-9]{2}',i)[0][:2])\n",
    "df['hour'] = hours"
   ]
  },
  {
   "cell_type": "code",
   "execution_count": 14,
   "metadata": {
    "slideshow": {
     "slide_type": "subslide"
    }
   },
   "outputs": [
    {
     "data": {
      "text/html": [
       "<div>\n",
       "<style scoped>\n",
       "    .dataframe tbody tr th:only-of-type {\n",
       "        vertical-align: middle;\n",
       "    }\n",
       "\n",
       "    .dataframe tbody tr th {\n",
       "        vertical-align: top;\n",
       "    }\n",
       "\n",
       "    .dataframe thead th {\n",
       "        text-align: right;\n",
       "    }\n",
       "</style>\n",
       "<table border=\"1\" class=\"dataframe\">\n",
       "  <thead>\n",
       "    <tr style=\"text-align: right;\">\n",
       "      <th></th>\n",
       "      <th>hour</th>\n",
       "      <th>amount</th>\n",
       "    </tr>\n",
       "  </thead>\n",
       "  <tbody>\n",
       "    <tr>\n",
       "      <td>0</td>\n",
       "      <td>01</td>\n",
       "      <td>16.25</td>\n",
       "    </tr>\n",
       "    <tr>\n",
       "      <td>1</td>\n",
       "      <td>01</td>\n",
       "      <td>14.19</td>\n",
       "    </tr>\n",
       "    <tr>\n",
       "      <td>2</td>\n",
       "      <td>01</td>\n",
       "      <td>6.42</td>\n",
       "    </tr>\n",
       "    <tr>\n",
       "      <td>3</td>\n",
       "      <td>01</td>\n",
       "      <td>40.90</td>\n",
       "    </tr>\n",
       "    <tr>\n",
       "      <td>4</td>\n",
       "      <td>01</td>\n",
       "      <td>3.25</td>\n",
       "    </tr>\n",
       "  </tbody>\n",
       "</table>\n",
       "</div>"
      ],
      "text/plain": [
       "  hour  amount\n",
       "0   01   16.25\n",
       "1   01   14.19\n",
       "2   01    6.42\n",
       "3   01   40.90\n",
       "4   01    3.25"
      ]
     },
     "execution_count": 14,
     "metadata": {},
     "output_type": "execute_result"
    }
   ],
   "source": [
    "df[['hour','amount']].head()"
   ]
  },
  {
   "cell_type": "markdown",
   "metadata": {
    "slideshow": {
     "slide_type": "subslide"
    }
   },
   "source": [
    "Transaction spending is not distributed uniformly across the hours in a day. Very small transaction spending occurs late at night or early in the morning, whereas large transaction spending occurs during the afternoon and evening."
   ]
  },
  {
   "cell_type": "code",
   "execution_count": 28,
   "metadata": {
    "slideshow": {
     "slide_type": "subslide"
    }
   },
   "outputs": [
    {
     "data": {
      "text/plain": [
       "Text(0.5, 1.0, 'Spending Across an Average Day')"
      ]
     },
     "execution_count": 28,
     "metadata": {},
     "output_type": "execute_result"
    },
    {
     "data": {
      "image/png": "[encoded data removed]",
      "text/plain": [
       "<Figure size 432x288 with 1 Axes>"
      ]
     },
     "metadata": {
      "needs_background": "light"
     },
     "output_type": "display_data"
    }
   ],
   "source": [
    "sns.barplot(x='hour',y='amount',data=df).set_title(\"Spending Across an Average Day\")"
   ]
  },
  {
   "cell_type": "markdown",
   "metadata": {
    "slideshow": {
     "slide_type": "slide"
    }
   },
   "source": [
    "Visualizing transaction volume over the course of an average day."
   ]
  },
  {
   "cell_type": "code",
   "execution_count": 16,
   "metadata": {
    "slideshow": {
     "slide_type": "subslide"
    }
   },
   "outputs": [],
   "source": [
    "hour_counts = df.groupby('hour').size()"
   ]
  },
  {
   "cell_type": "markdown",
   "metadata": {
    "slideshow": {
     "slide_type": "subslide"
    }
   },
   "source": [
    "Transaction volume is not distributed uniformly across the hours in a day. There are small transaction volumes  late at night or early in the morning, whereas there are large transaction volumes during the afternoon and evening."
   ]
  },
  {
   "cell_type": "code",
   "execution_count": 29,
   "metadata": {
    "slideshow": {
     "slide_type": "subslide"
    }
   },
   "outputs": [
    {
     "data": {
      "text/plain": [
       "Text(0.5, 1.0, 'Transaction Volume Across an Average Day')"
      ]
     },
     "execution_count": 29,
     "metadata": {},
     "output_type": "execute_result"
    },
    {
     "data": {
      "image/png": "[encoded data removed]",
      "text/plain": [
       "<Figure size 432x288 with 1 Axes>"
      ]
     },
     "metadata": {
      "needs_background": "light"
     },
     "output_type": "display_data"
    }
   ],
   "source": [
    "sns.barplot(x=hour_counts.index,y=hour_counts).set_title(\"Transaction Volume Across an Average Day\")"
   ]
  },
  {
   "cell_type": "markdown",
   "metadata": {
    "slideshow": {
     "slide_type": "slide"
    }
   },
   "source": [
    "When plotting the column, 'amount' on its own or grouped by 'day_of_week' or 'hour', values tend to clump towards one end and have scattered outliers on the other end. Most transaction amounts are less than $4000 AUD. Very few are higher amounts."
   ]
  },
  {
   "cell_type": "code",
   "execution_count": 30,
   "metadata": {
    "slideshow": {
     "slide_type": "subslide"
    }
   },
   "outputs": [
    {
     "data": {
      "text/plain": [
       "Text(0.5, 1.0, 'Transaction Amounts')"
      ]
     },
     "execution_count": 30,
     "metadata": {},
     "output_type": "execute_result"
    },
    {
     "data": {
      "image/png": "[encoded data removed]",
      "text/plain": [
       "<Figure size 432x288 with 1 Axes>"
      ]
     },
     "metadata": {
      "needs_background": "light"
     },
     "output_type": "display_data"
    }
   ],
   "source": [
    "sns.boxplot(x=df[\"amount\"]).set_title(\"Transaction Amounts\")"
   ]
  },
  {
   "cell_type": "code",
   "execution_count": 31,
   "metadata": {
    "slideshow": {
     "slide_type": "subslide"
    }
   },
   "outputs": [
    {
     "data": {
      "text/plain": [
       "Text(0.5, 1.0, 'Transaction Amounts Across an Average Week')"
      ]
     },
     "execution_count": 31,
     "metadata": {},
     "output_type": "execute_result"
    },
    {
     "data": {
      "image/png": "[encoded data removed]",
      "text/plain": [
       "<Figure size 432x288 with 1 Axes>"
      ]
     },
     "metadata": {
      "needs_background": "light"
     },
     "output_type": "display_data"
    }
   ],
   "source": [
    "sns.boxplot(x=\"day_of_week\", y=\"amount\", data=df).set_title(\"Transaction Amounts Across an Average Week\")"
   ]
  },
  {
   "cell_type": "code",
   "execution_count": 32,
   "metadata": {
    "slideshow": {
     "slide_type": "subslide"
    }
   },
   "outputs": [
    {
     "data": {
      "text/plain": [
       "Text(0.5, 1.0, 'Transaction Amounts Across an Average Day')"
      ]
     },
     "execution_count": 32,
     "metadata": {},
     "output_type": "execute_result"
    },
    {
     "data": {
      "image/png": "[encoded data removed]",
      "text/plain": [
       "<Figure size 432x288 with 1 Axes>"
      ]
     },
     "metadata": {
      "needs_background": "light"
     },
     "output_type": "display_data"
    }
   ],
   "source": [
    "sns.boxplot(x=\"hour\", y=\"amount\", data=df).set_title(\"Transaction Amounts Across an Average Day\")"
   ]
  },
  {
   "cell_type": "markdown",
   "metadata": {
    "slideshow": {
     "slide_type": "slide"
    }
   },
   "source": [
    "Anything that lies outside of lower and upper bound is an outlier. Here are some descriptive statistics of 'amount.'"
   ]
  },
  {
   "cell_type": "code",
   "execution_count": 21,
   "metadata": {
    "slideshow": {
     "slide_type": "subslide"
    }
   },
   "outputs": [
    {
     "data": {
      "text/plain": [
       "count    12043.000000\n",
       "mean       187.933588\n",
       "std        592.599934\n",
       "min          0.100000\n",
       "25%         16.000000\n",
       "50%         29.000000\n",
       "75%         53.655000\n",
       "max       8835.980000\n",
       "Name: amount, dtype: float64"
      ]
     },
     "execution_count": 21,
     "metadata": {},
     "output_type": "execute_result"
    }
   ],
   "source": [
    "basic_stats = df['amount'].sort_values().describe()\n",
    "basic_stats"
   ]
  },
  {
   "cell_type": "markdown",
   "metadata": {
    "slideshow": {
     "slide_type": "subslide"
    }
   },
   "source": [
    "Anything outside the boundary is considered an outlier."
   ]
  },
  {
   "cell_type": "code",
   "execution_count": 22,
   "metadata": {
    "slideshow": {
     "slide_type": "subslide"
    }
   },
   "outputs": [
    {
     "data": {
      "text/plain": [
       "(24.0, 80.4825)"
      ]
     },
     "execution_count": 22,
     "metadata": {},
     "output_type": "execute_result"
    }
   ],
   "source": [
    "q1 = basic_stats['25%']\n",
    "q3 = basic_stats['75%']\n",
    "iqr = q3-q1\n",
    "lower_bound = q1*1.5\n",
    "upper_bound = q3*1.5\n",
    "lower_bound, upper_bound"
   ]
  },
  {
   "cell_type": "markdown",
   "metadata": {
    "slideshow": {
     "slide_type": "slide"
    }
   },
   "source": [
    "The data frame below contains information of the transations that had amounts within the bounds, ie. outliers have been removed."
   ]
  },
  {
   "cell_type": "code",
   "execution_count": 23,
   "metadata": {
    "slideshow": {
     "slide_type": "subslide"
    }
   },
   "outputs": [
    {
     "data": {
      "text/html": [
       "<div>\n",
       "<style scoped>\n",
       "    .dataframe tbody tr th:only-of-type {\n",
       "        vertical-align: middle;\n",
       "    }\n",
       "\n",
       "    .dataframe tbody tr th {\n",
       "        vertical-align: top;\n",
       "    }\n",
       "\n",
       "    .dataframe thead th {\n",
       "        text-align: right;\n",
       "    }\n",
       "</style>\n",
       "<table border=\"1\" class=\"dataframe\">\n",
       "  <thead>\n",
       "    <tr style=\"text-align: right;\">\n",
       "      <th></th>\n",
       "      <th>status</th>\n",
       "      <th>card_present_flag</th>\n",
       "      <th>bpay_biller_code</th>\n",
       "      <th>account</th>\n",
       "      <th>currency</th>\n",
       "      <th>long_lat</th>\n",
       "      <th>txn_description</th>\n",
       "      <th>merchant_id</th>\n",
       "      <th>merchant_code</th>\n",
       "      <th>first_name</th>\n",
       "      <th>...</th>\n",
       "      <th>merchant_state</th>\n",
       "      <th>extraction</th>\n",
       "      <th>amount</th>\n",
       "      <th>transaction_id</th>\n",
       "      <th>country</th>\n",
       "      <th>customer_id</th>\n",
       "      <th>merchant_long_lat</th>\n",
       "      <th>movement</th>\n",
       "      <th>day_of_week</th>\n",
       "      <th>hour</th>\n",
       "    </tr>\n",
       "  </thead>\n",
       "  <tbody>\n",
       "    <tr>\n",
       "      <td>3</td>\n",
       "      <td>authorized</td>\n",
       "      <td>1.0</td>\n",
       "      <td>NaN</td>\n",
       "      <td>ACC-1037050564</td>\n",
       "      <td>AUD</td>\n",
       "      <td>153.10 -27.66</td>\n",
       "      <td>SALES-POS</td>\n",
       "      <td>48514682-c78a-4a88-b0da-2d6302e64673</td>\n",
       "      <td>NaN</td>\n",
       "      <td>Rhonda</td>\n",
       "      <td>...</td>\n",
       "      <td>QLD</td>\n",
       "      <td>2018-08-01T01:38:45.000+0000</td>\n",
       "      <td>40.90</td>\n",
       "      <td>2698170da3704fd981b15e64a006079e</td>\n",
       "      <td>Australia</td>\n",
       "      <td>CUS-1614226872</td>\n",
       "      <td>153.05 -26.68</td>\n",
       "      <td>debit</td>\n",
       "      <td>2</td>\n",
       "      <td>01</td>\n",
       "    </tr>\n",
       "    <tr>\n",
       "      <td>6</td>\n",
       "      <td>authorized</td>\n",
       "      <td>1.0</td>\n",
       "      <td>NaN</td>\n",
       "      <td>ACC-2776252858</td>\n",
       "      <td>AUD</td>\n",
       "      <td>144.95 -37.76</td>\n",
       "      <td>SALES-POS</td>\n",
       "      <td>3aa18033-a0a9-4190-a117-b7caaf4d07e3</td>\n",
       "      <td>NaN</td>\n",
       "      <td>Kristin</td>\n",
       "      <td>...</td>\n",
       "      <td>VIC</td>\n",
       "      <td>2018-08-01T02:23:04.000+0000</td>\n",
       "      <td>61.06</td>\n",
       "      <td>b79ca208099c4c28aa5dae966096d842</td>\n",
       "      <td>Australia</td>\n",
       "      <td>CUS-4123612273</td>\n",
       "      <td>144.95 -37.53</td>\n",
       "      <td>debit</td>\n",
       "      <td>2</td>\n",
       "      <td>02</td>\n",
       "    </tr>\n",
       "    <tr>\n",
       "      <td>10</td>\n",
       "      <td>posted</td>\n",
       "      <td>NaN</td>\n",
       "      <td>NaN</td>\n",
       "      <td>ACC-2171593283</td>\n",
       "      <td>AUD</td>\n",
       "      <td>146.94 -36.04</td>\n",
       "      <td>PAYMENT</td>\n",
       "      <td>NaN</td>\n",
       "      <td>NaN</td>\n",
       "      <td>Fernando</td>\n",
       "      <td>...</td>\n",
       "      <td>NaN</td>\n",
       "      <td>2018-08-01T06:00:00.000+0000</td>\n",
       "      <td>27.00</td>\n",
       "      <td>baff17b27b2643c48c84fca7129e9611</td>\n",
       "      <td>Australia</td>\n",
       "      <td>CUS-2317998716</td>\n",
       "      <td>NaN</td>\n",
       "      <td>debit</td>\n",
       "      <td>2</td>\n",
       "      <td>06</td>\n",
       "    </tr>\n",
       "    <tr>\n",
       "      <td>11</td>\n",
       "      <td>posted</td>\n",
       "      <td>NaN</td>\n",
       "      <td>NaN</td>\n",
       "      <td>ACC-2776252858</td>\n",
       "      <td>AUD</td>\n",
       "      <td>144.95 -37.76</td>\n",
       "      <td>PAYMENT</td>\n",
       "      <td>NaN</td>\n",
       "      <td>NaN</td>\n",
       "      <td>Kristin</td>\n",
       "      <td>...</td>\n",
       "      <td>NaN</td>\n",
       "      <td>2018-08-01T06:00:00.000+0000</td>\n",
       "      <td>29.00</td>\n",
       "      <td>78a1b6c3a5534d48828d8ed266ba9c2e</td>\n",
       "      <td>Australia</td>\n",
       "      <td>CUS-4123612273</td>\n",
       "      <td>NaN</td>\n",
       "      <td>debit</td>\n",
       "      <td>2</td>\n",
       "      <td>06</td>\n",
       "    </tr>\n",
       "    <tr>\n",
       "      <td>13</td>\n",
       "      <td>posted</td>\n",
       "      <td>NaN</td>\n",
       "      <td>NaN</td>\n",
       "      <td>ACC-588564840</td>\n",
       "      <td>AUD</td>\n",
       "      <td>151.27 -33.76</td>\n",
       "      <td>INTER BANK</td>\n",
       "      <td>NaN</td>\n",
       "      <td>NaN</td>\n",
       "      <td>Isaiah</td>\n",
       "      <td>...</td>\n",
       "      <td>NaN</td>\n",
       "      <td>2018-08-01T07:00:00.000+0000</td>\n",
       "      <td>25.00</td>\n",
       "      <td>eaafa602902b4f4194efb96a105dd7ab</td>\n",
       "      <td>Australia</td>\n",
       "      <td>CUS-1462656821</td>\n",
       "      <td>NaN</td>\n",
       "      <td>debit</td>\n",
       "      <td>2</td>\n",
       "      <td>07</td>\n",
       "    </tr>\n",
       "  </tbody>\n",
       "</table>\n",
       "<p>5 rows × 25 columns</p>\n",
       "</div>"
      ],
      "text/plain": [
       "        status  card_present_flag bpay_biller_code         account currency  \\\n",
       "3   authorized                1.0              NaN  ACC-1037050564      AUD   \n",
       "6   authorized                1.0              NaN  ACC-2776252858      AUD   \n",
       "10      posted                NaN              NaN  ACC-2171593283      AUD   \n",
       "11      posted                NaN              NaN  ACC-2776252858      AUD   \n",
       "13      posted                NaN              NaN   ACC-588564840      AUD   \n",
       "\n",
       "         long_lat txn_description                           merchant_id  \\\n",
       "3   153.10 -27.66       SALES-POS  48514682-c78a-4a88-b0da-2d6302e64673   \n",
       "6   144.95 -37.76       SALES-POS  3aa18033-a0a9-4190-a117-b7caaf4d07e3   \n",
       "10  146.94 -36.04         PAYMENT                                   NaN   \n",
       "11  144.95 -37.76         PAYMENT                                   NaN   \n",
       "13  151.27 -33.76      INTER BANK                                   NaN   \n",
       "\n",
       "    merchant_code first_name  ...  merchant_state  \\\n",
       "3             NaN     Rhonda  ...             QLD   \n",
       "6             NaN    Kristin  ...             VIC   \n",
       "10            NaN   Fernando  ...             NaN   \n",
       "11            NaN    Kristin  ...             NaN   \n",
       "13            NaN     Isaiah  ...             NaN   \n",
       "\n",
       "                      extraction amount                    transaction_id  \\\n",
       "3   2018-08-01T01:38:45.000+0000  40.90  2698170da3704fd981b15e64a006079e   \n",
       "6   2018-08-01T02:23:04.000+0000  61.06  b79ca208099c4c28aa5dae966096d842   \n",
       "10  2018-08-01T06:00:00.000+0000  27.00  baff17b27b2643c48c84fca7129e9611   \n",
       "11  2018-08-01T06:00:00.000+0000  29.00  78a1b6c3a5534d48828d8ed266ba9c2e   \n",
       "13  2018-08-01T07:00:00.000+0000  25.00  eaafa602902b4f4194efb96a105dd7ab   \n",
       "\n",
       "      country     customer_id merchant_long_lat  movement day_of_week hour  \n",
       "3   Australia  CUS-1614226872     153.05 -26.68     debit           2   01  \n",
       "6   Australia  CUS-4123612273     144.95 -37.53     debit           2   02  \n",
       "10  Australia  CUS-2317998716               NaN     debit           2   06  \n",
       "11  Australia  CUS-4123612273               NaN     debit           2   06  \n",
       "13  Australia  CUS-1462656821               NaN     debit           2   07  \n",
       "\n",
       "[5 rows x 25 columns]"
      ]
     },
     "execution_count": 23,
     "metadata": {},
     "output_type": "execute_result"
    }
   ],
   "source": [
    "df_no_outliers = df[(df['amount'] >= lower_bound) & (df['amount'] <= upper_bound)]\n",
    "df_no_outliers.head()"
   ]
  },
  {
   "cell_type": "markdown",
   "metadata": {
    "slideshow": {
     "slide_type": "slide"
    }
   },
   "source": [
    "Using the dataframe with no outlier 'amount' values, the resulting barplots showing the distribution of transaction amounts across the days of the week and across the hours of the day are roughly uniform. This tells us that the outliers skew the data greatly."
   ]
  },
  {
   "cell_type": "code",
   "execution_count": 33,
   "metadata": {
    "slideshow": {
     "slide_type": "subslide"
    }
   },
   "outputs": [
    {
     "data": {
      "text/plain": [
       "Text(0.5, 1.0, 'Transaction Amounts Across an Average Week Without Outliers')"
      ]
     },
     "execution_count": 33,
     "metadata": {},
     "output_type": "execute_result"
    },
    {
     "data": {
      "image/png": "[encoded data removed]",
      "text/plain": [
       "<Figure size 432x288 with 1 Axes>"
      ]
     },
     "metadata": {
      "needs_background": "light"
     },
     "output_type": "display_data"
    }
   ],
   "source": [
    "sns.barplot(x='day_of_week',y='amount',data=df_no_outliers).set_title(\"Transaction Amounts Across an Average Week Without Outliers\")"
   ]
  },
  {
   "cell_type": "code",
   "execution_count": 34,
   "metadata": {
    "slideshow": {
     "slide_type": "subslide"
    }
   },
   "outputs": [
    {
     "data": {
      "text/plain": [
       "Text(0.5, 1.0, 'Transaction Amounts Across an Average Day Without Outliers')"
      ]
     },
     "execution_count": 34,
     "metadata": {},
     "output_type": "execute_result"
    },
    {
     "data": {
      "image/png": "[encoded data removed]",
      "text/plain": [
       "<Figure size 432x288 with 1 Axes>"
      ]
     },
     "metadata": {
      "needs_background": "light"
     },
     "output_type": "display_data"
    }
   ],
   "source": [
    "sns.barplot(x='hour',y='amount',data=df_no_outliers).set_title(\"Transaction Amounts Across an Average Day Without Outliers\")"
   ]
  }
 ],
 "metadata": {
  "celltoolbar": "Slideshow",
  "kernelspec": {
   "display_name": "Python 3",
   "language": "python",
   "name": "python3"
  },
  "language_info": {
   "codemirror_mode": {
    "name": "ipython",
    "version": 3
   },
   "file_extension": ".py",
   "mimetype": "text/x-python",
   "name": "python",
   "nbconvert_exporter": "python",
   "pygments_lexer": "ipython3",
   "version": "3.7.4"
  }
 },
 "nbformat": 4,
 "nbformat_minor": 2
}
